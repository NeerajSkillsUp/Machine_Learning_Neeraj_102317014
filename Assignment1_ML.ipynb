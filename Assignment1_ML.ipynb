{
  "nbformat": 4,
  "nbformat_minor": 0,
  "metadata": {
    "colab": {
      "provenance": []
    },
    "kernelspec": {
      "name": "python3",
      "display_name": "Python 3"
    },
    "language_info": {
      "name": "python"
    }
  },
  "cells": [
    {
      "cell_type": "markdown",
      "source": [
        "# Numpy Basics"
      ],
      "metadata": {
        "id": "gQn8_Leb68NU"
      }
    },
    {
      "cell_type": "markdown",
      "source": [
        "# Ques 1 : Questions on Basic NumPy Array"
      ],
      "metadata": {
        "id": "nAHAeq2H7BQM"
      }
    },
    {
      "cell_type": "code",
      "source": [
        "import numpy as np"
      ],
      "metadata": {
        "id": "Pd_aI1vyaQ7U"
      },
      "execution_count": null,
      "outputs": []
    },
    {
      "cell_type": "markdown",
      "source": [
        "(a) Reverse the NumPy array: arr = np.array([1, 2, 3, 6, 4, 5])"
      ],
      "metadata": {
        "id": "hd5sLU9LaIwc"
      }
    },
    {
      "cell_type": "code",
      "execution_count": null,
      "metadata": {
        "colab": {
          "base_uri": "https://localhost:8080/"
        },
        "id": "hNHJ3Pyh61YB",
        "outputId": "5ad75926-8dfe-4d62-89fe-1e49cab25e06"
      },
      "outputs": [
        {
          "output_type": "stream",
          "name": "stdout",
          "text": [
            "[5 4 6 3 2 1]\n"
          ]
        }
      ],
      "source": [
        "arr1 = np.array([1,2,3,6,4,5])\n",
        "#rev_arr1 = arr1[::-1]\n",
        "rev_arr1 = np.flip(arr1)\n",
        "print(rev_arr1)"
      ]
    },
    {
      "cell_type": "markdown",
      "source": [
        "(b) Flatten the NumPy arr: array1 = np.array([[1, 2, 3], [2, 4, 5], [1, 2, 3]]) using any two\n",
        "NumPy in-built methods"
      ],
      "metadata": {
        "id": "Ub4ogaQzaXQU"
      }
    },
    {
      "cell_type": "code",
      "source": [
        "arr2 = np.array([[1,2,3],[2,4,5],[1,2,3]])\n",
        "flat_arr2 = arr2.flatten(order='C')\n",
        "ravel_arr2 = arr2.ravel(order='F')\n",
        "# order='C' for row-wise flatten 'F' for column-wise flatten\n",
        "print(flat_arr2)\n",
        "print(ravel_arr2)"
      ],
      "metadata": {
        "colab": {
          "base_uri": "https://localhost:8080/"
        },
        "id": "DAHfWNUmbQFq",
        "outputId": "b6f4971d-fde7-419d-d21b-8debd545bf9f"
      },
      "execution_count": null,
      "outputs": [
        {
          "output_type": "stream",
          "name": "stdout",
          "text": [
            "[1 2 3 2 4 5 1 2 3]\n",
            "[1 2 1 2 4 2 3 5 3]\n"
          ]
        }
      ]
    },
    {
      "cell_type": "markdown",
      "source": [
        "(c) Compare the following numpy arrays:\n",
        "\n",
        "arr1 = np.array([[1, 2], [3, 4]])\n",
        "\n",
        "arr2 = np.array([[1, 2], [3, 4]])\n"
      ],
      "metadata": {
        "id": "1a89Ci-HacCM"
      }
    },
    {
      "cell_type": "code",
      "source": [
        "a = np.array([[1,2],[3,4]])\n",
        "b = np.array([[1,2],[3,4]])\n",
        "print(a==b)"
      ],
      "metadata": {
        "colab": {
          "base_uri": "https://localhost:8080/"
        },
        "id": "0JnNhgL2bV9n",
        "outputId": "376172eb-a4de-43d8-8271-956e94ff74ea"
      },
      "execution_count": null,
      "outputs": [
        {
          "output_type": "stream",
          "name": "stdout",
          "text": [
            "[[ True  True]\n",
            " [ True  True]]\n"
          ]
        }
      ]
    },
    {
      "cell_type": "markdown",
      "source": [
        "(d) Find the most frequent value and their indice(s) in the following arrays:\n",
        "\n",
        "i. x = np.array([1,2,3,4,5,1,2,1,1,1])\n",
        "\n",
        "ii. y = np.array([1, 1, 1, 2, 3, 4, 2, 4, 3, 3, ])"
      ],
      "metadata": {
        "id": "HPJAUQOzaezu"
      }
    },
    {
      "cell_type": "code",
      "source": [
        "# (i)\n",
        "x = np.array([1,2,3,4,5,1,2,1,1,1])\n",
        "values_x,counts_x = np.unique(x,return_counts=True)\n",
        "most_freq_x = values_x[np.argmax(counts_x)]\n",
        "indices = np.where(x == most_freq_x)[0]\n",
        "print(indices)\n",
        "print(most_freq_x)\n",
        "\n",
        "#(ii)\n",
        "y = np.array([1,1,1,2,3,4,2,4,3,3,])\n",
        "values_y,counts_y = np.unique(y,return_counts=True)\n",
        "most_freq_y = values_y[np.argmax(counts_y)]\n",
        "indices = np.where(y == most_freq_y)[0]\n",
        "print(indices)\n",
        "print(most_freq_y)"
      ],
      "metadata": {
        "colab": {
          "base_uri": "https://localhost:8080/"
        },
        "id": "HyBLCoKRbawE",
        "outputId": "0e33d9a9-0e65-4416-e445-1c328a1384cf"
      },
      "execution_count": null,
      "outputs": [
        {
          "output_type": "stream",
          "name": "stdout",
          "text": [
            "[0 5 7 8 9]\n",
            "1\n",
            "[0 1 2]\n",
            "1\n"
          ]
        }
      ]
    },
    {
      "cell_type": "markdown",
      "source": [
        "(e) For the array gfg = np.matrix('[4, 1, 9; 12, 3, 1; 4, 5, 6]'), find\n",
        "\n",
        "i. Sum of all elements\n",
        "\n",
        "ii. Sum of all elements row-wise\n",
        "\n",
        "iii. Sum of all elements column-wise"
      ],
      "metadata": {
        "id": "1eKJuhmVaiBK"
      }
    },
    {
      "cell_type": "code",
      "source": [
        "gfg = np.matrix('[4,1,9;12,3,1;4,5,6]')\n",
        "#(i)\n",
        "sum_all_elm = gfg.sum()\n",
        "#(ii)\n",
        "sum_row = gfg.sum(axis=1)\n",
        "#(iii)\n",
        "sum_col = gfg.sum(axis=0)\n",
        "print(sum_all_elm)\n",
        "print(sum_row)\n",
        "print(sum_col)"
      ],
      "metadata": {
        "colab": {
          "base_uri": "https://localhost:8080/"
        },
        "id": "pBojesqTbgnF",
        "outputId": "69358858-6924-4ea2-cc88-766dc88346a2"
      },
      "execution_count": null,
      "outputs": [
        {
          "output_type": "stream",
          "name": "stdout",
          "text": [
            "45\n",
            "[[14]\n",
            " [16]\n",
            " [15]]\n",
            "[[20  9 16]]\n"
          ]
        }
      ]
    },
    {
      "cell_type": "markdown",
      "source": [
        "(f) For the matrix: n_array = np.array([[55, 25, 15],[30, 44, 2],[11, 45, 77]]), find\n",
        "\n",
        "i. Sum of diagonal elements\n",
        "\n",
        "ii. Eigen values of matrix\n",
        "\n",
        "iii. Eigen vectors of matrix\n",
        "\n",
        "iv. Inverse of matrix\n",
        "\n",
        "v. Determinant of matrix\n",
        "\n"
      ],
      "metadata": {
        "id": "Bd-5NEEba1OQ"
      }
    },
    {
      "cell_type": "code",
      "source": [
        "n_array = np.array([[55,25,15],[30,44,2],[11,45,77]])\n",
        "#(i)\n",
        "sum_diag = np.sum(np.diagonal(n_array))\n",
        "print(sum_diag)\n",
        "#(ii),(iii)\n",
        "eigenvalues,eigenvectors = np.linalg.eig(n_array)\n",
        "print(eigenvalues)\n",
        "print(eigenvectors)\n",
        "#(iv)\n",
        "inversematrix = np.linalg.inv(n_array)\n",
        "print(inversematrix)\n",
        "#(v)\n",
        "determinant = np.linalg.det(n_array)\n",
        "print(determinant)"
      ],
      "metadata": {
        "colab": {
          "base_uri": "https://localhost:8080/"
        },
        "id": "F2JCIl2Jbs6O",
        "outputId": "7a3806cb-6ac4-4702-caa1-c56bb75309d1"
      },
      "execution_count": null,
      "outputs": [
        {
          "output_type": "stream",
          "name": "stdout",
          "text": [
            "176\n",
            "[98.16835147 28.097044   49.73460452]\n",
            "[[ 0.4574917   0.34637121 -0.15017693]\n",
            " [ 0.28447814 -0.72784061 -0.4852124 ]\n",
            " [ 0.84248058  0.59184038  0.8614034 ]]\n",
            "[[ 0.02404141 -0.00911212 -0.00444671]\n",
            " [-0.01667882  0.02966905  0.0024785 ]\n",
            " [ 0.00631287 -0.01603732  0.01217379]]\n",
            "137180.0000000001\n"
          ]
        }
      ]
    },
    {
      "cell_type": "markdown",
      "source": [
        "(g) Multiply the following matrices and also find covariance between matrices using NumPy:\n",
        "\n",
        "i. p = [[1, 2], [2, 3]]\n",
        "\n",
        "q = [[4, 5], [6, 7]]\n",
        "\n",
        "ii. p = [[1, 2], [2, 3], [4, 5]]\n",
        "\n",
        "q = [[4, 5, 1], [6, 7, 2]]\n"
      ],
      "metadata": {
        "id": "IcZuFtxibFgJ"
      }
    },
    {
      "cell_type": "code",
      "source": [
        "#(i)\n",
        "p = np.array([[1,2],[2,3]])\n",
        "q = np.array([[4,5],[6,7]])\n",
        "p_mul_q = np.matmul(p,q)\n",
        "print(p_mul_q)\n",
        "covar_pq = np.cov(p.flatten(),q.flatten())\n",
        "print(covar_pq)\n",
        "\n",
        "#(ii)\n",
        "r = np.array([[1,2],[2,3],[4,5]])\n",
        "s = np.array([[4,5,1],[6,7,2]])\n",
        "r_mul_s = np.matmul(r,s)\n",
        "print(r_mul_s)\n",
        "covar_rs = np.cov(r.flatten(),s.flatten())\n",
        "print(covar_rs)"
      ],
      "metadata": {
        "colab": {
          "base_uri": "https://localhost:8080/"
        },
        "id": "GFQqkzdMb71S",
        "outputId": "691c413d-b9eb-4eff-ddf5-84a0bf4391a8"
      },
      "execution_count": null,
      "outputs": [
        {
          "output_type": "stream",
          "name": "stdout",
          "text": [
            "[[16 19]\n",
            " [26 31]]\n",
            "[[0.66666667 1.        ]\n",
            " [1.         1.66666667]]\n",
            "[[16 19  5]\n",
            " [26 31  8]\n",
            " [46 55 14]]\n",
            "[[2.16666667 0.23333333]\n",
            " [0.23333333 5.36666667]]\n"
          ]
        }
      ]
    },
    {
      "cell_type": "markdown",
      "source": [
        "(h) For the matrices: x = np.array([[2, 3, 4], [3, 2, 9]]); y = np.array([[1, 5, 0], [5, 10, 3]]),\n",
        "find inner, outer and cartesian product?\n"
      ],
      "metadata": {
        "id": "rhV08tu_bIk3"
      }
    },
    {
      "cell_type": "code",
      "source": [
        "X = np.array([[2,3,4],[3,2,9]])\n",
        "Y = np.array([[1,5,0],[5,10,3]])\n",
        "inner_prod = np.inner(X,Y)\n",
        "print(inner_prod)\n",
        "outer_prod = np.outer(X,Y)\n",
        "print(outer_prod)\n",
        "\n",
        "from itertools import product\n",
        "cartesian_prod = np.array([np.concatenate((a,b)) for a,b in product(X,Y)])\n",
        "print(cartesian_prod)"
      ],
      "metadata": {
        "colab": {
          "base_uri": "https://localhost:8080/"
        },
        "id": "3RFX41RHcDTp",
        "outputId": "c3d83be7-dd8c-4843-8a89-38dcae814b94"
      },
      "execution_count": null,
      "outputs": [
        {
          "output_type": "stream",
          "name": "stdout",
          "text": [
            "[[17 52]\n",
            " [13 62]]\n",
            "[[ 2 10  0 10 20  6]\n",
            " [ 3 15  0 15 30  9]\n",
            " [ 4 20  0 20 40 12]\n",
            " [ 3 15  0 15 30  9]\n",
            " [ 2 10  0 10 20  6]\n",
            " [ 9 45  0 45 90 27]]\n",
            "[[ 2  3  4  1  5  0]\n",
            " [ 2  3  4  5 10  3]\n",
            " [ 3  2  9  1  5  0]\n",
            " [ 3  2  9  5 10  3]]\n"
          ]
        }
      ]
    },
    {
      "cell_type": "markdown",
      "source": [
        "# Ques 2 : Based on NumPy Mathematics and Statistics"
      ],
      "metadata": {
        "id": "aTSGls_bggYt"
      }
    },
    {
      "cell_type": "markdown",
      "source": [
        "(a) For the array: array = np.array([[1, -2, 3],[-4, 5, -6]])\n",
        "\n",
        "i. Find element-wise absolute value\n",
        "\n",
        "ii. Find the 25th, 50th, and 75th percentile of flattened array, for each column, for each\n",
        "row.\n",
        "\n",
        "iii. Mean, Median and Standard Deviation of flattened array, of each column, and\n",
        "each row"
      ],
      "metadata": {
        "id": "PZ-kC5ltglYb"
      }
    },
    {
      "cell_type": "code",
      "source": [
        "array = np.array([[1,-2,3],[-4,5,-6]])\n",
        "#(i)\n",
        "abs_array = np.abs(array)\n",
        "print(abs_array)\n",
        "\n",
        "#(ii)\n",
        "flat_array = array.flatten()\n",
        "p_flat = np.percentile(flat_array,[25,50,75])\n",
        "print(p_flat)\n",
        "p_col = np.percentile(array,[25,50,75],axis=0)\n",
        "print(p_col)\n",
        "p_row = np.percentile(array,[25,50,75],axis=1)\n",
        "print(p_row)\n",
        "\n",
        "#(iii)\n",
        "mean_f = np.mean(flat_array)\n",
        "median_f = np.median(flat_array)\n",
        "sd_f = np.std(flat_array)\n",
        "print(f'mean = {mean_f}, median = {median_f}, sd = {sd_f}')\n",
        "\n",
        "mean_c = np.mean(array,axis=0)\n",
        "median_c = np.median(array,axis=0)\n",
        "sd_c = np.std(array,axis=0)\n",
        "print(f'mean = {mean_c}, median = {median_c}, sd = {sd_c}')\n",
        "\n",
        "mean_r = np.mean(array,axis=1)\n",
        "median_r = np.median(array,axis=1)\n",
        "sd_r = np.std(array,axis=1)\n",
        "print(f'mean = {mean_r}, median = {median_r}, sd = {sd_r}')"
      ],
      "metadata": {
        "colab": {
          "base_uri": "https://localhost:8080/"
        },
        "id": "BAnSd-sWhdvJ",
        "outputId": "056d00a2-1c5b-434c-b5c2-1ef56af1f836"
      },
      "execution_count": null,
      "outputs": [
        {
          "output_type": "stream",
          "name": "stdout",
          "text": [
            "[[1 2 3]\n",
            " [4 5 6]]\n",
            "[-3.5 -0.5  2.5]\n",
            "[[-2.75 -0.25 -3.75]\n",
            " [-1.5   1.5  -1.5 ]\n",
            " [-0.25  3.25  0.75]]\n",
            "[[-0.5 -5. ]\n",
            " [ 1.  -4. ]\n",
            " [ 2.   0.5]]\n",
            "mean = -0.5, median = -0.5, sd = 3.8622100754188224\n",
            "mean = [-1.5  1.5 -1.5], median = [-1.5  1.5 -1.5], sd = [2.5 3.5 4.5]\n",
            "mean = [ 0.66666667 -1.66666667], median = [ 1. -4.], sd = [2.05480467 4.78423336]\n"
          ]
        }
      ]
    },
    {
      "cell_type": "markdown",
      "source": [
        "(b) For the array: a = np.array([-1.8, -1.6, -0.5, 0.5,1.6, 1.8, 3.0]). Find floor, ceiling\n",
        "and truncated value, rounded values"
      ],
      "metadata": {
        "id": "QZcNL25klJ5H"
      }
    },
    {
      "cell_type": "code",
      "source": [
        "A = np.array([-1.8,-1.6,-0.5,0.5,1.6,1.8,3.0])\n",
        "A_floor = np.floor(A)\n",
        "A_ceiling = np.ceil(A)\n",
        "A_truncated = np.trunc(A)\n",
        "A_rounded = np.round(A)\n",
        "print(A_floor)\n",
        "print(A_ceiling)\n",
        "print(A_truncated)\n",
        "print(A_rounded)"
      ],
      "metadata": {
        "colab": {
          "base_uri": "https://localhost:8080/"
        },
        "id": "9ryFQrswlNNc",
        "outputId": "0003b484-e162-417b-dc51-f2233e2166a0"
      },
      "execution_count": null,
      "outputs": [
        {
          "output_type": "stream",
          "name": "stdout",
          "text": [
            "[-2. -2. -1.  0.  1.  1.  3.]\n",
            "[-1. -1. -0.  1.  2.  2.  3.]\n",
            "[-1. -1. -0.  0.  1.  1.  3.]\n",
            "[-2. -2. -0.  0.  2.  2.  3.]\n"
          ]
        }
      ]
    },
    {
      "cell_type": "markdown",
      "source": [
        "# Ques 3 : Based on Searching and Sorting"
      ],
      "metadata": {
        "id": "VUikgj3EmVNC"
      }
    },
    {
      "cell_type": "markdown",
      "source": [
        "(a) For the array: array = np.array([10, 52, 62, 16, 16, 54, 453]), find\n",
        "\n",
        "i. Sorted array\n",
        "\n",
        "ii. Indices of sorted array\n",
        "\n",
        "iii. 4 smallest elements\n",
        "\n",
        "iv. 5 largest elements"
      ],
      "metadata": {
        "id": "vJHyr6FJmcbz"
      }
    },
    {
      "cell_type": "code",
      "source": [
        "Arr = np.array([10,52,62,16,16,54,453])\n",
        "#(i)\n",
        "sorted_Arr = np.sort(Arr)\n",
        "print(sorted_Arr)\n",
        "\n",
        "#(ii)\n",
        "sorted_indices = np.argsort(Arr)\n",
        "print(sorted_indices)\n",
        "\n",
        "#(iii)\n",
        "smallest_4 = np.sort(Arr)[:4]\n",
        "print(smallest_4)\n",
        "\n",
        "#(iv)\n",
        "largest_5 = np.sort(Arr)[-5:]\n",
        "print(largest_5)"
      ],
      "metadata": {
        "colab": {
          "base_uri": "https://localhost:8080/"
        },
        "id": "0jCSBErKmh03",
        "outputId": "6e26d860-71fa-4721-a136-5ad130a043aa"
      },
      "execution_count": null,
      "outputs": [
        {
          "output_type": "stream",
          "name": "stdout",
          "text": [
            "[ 10  16  16  52  54  62 453]\n",
            "[0 3 4 1 5 2 6]\n",
            "[10 16 16 52]\n",
            "[10 16]\n"
          ]
        }
      ]
    },
    {
      "cell_type": "markdown",
      "source": [
        "(b) For the array: array = np.array([1.0, 1.2, 2.2, 2.0, 3.0, 2.0]), find\n",
        "\n",
        "i. Integer elements only\n",
        "\n",
        "ii. Float elements only\n"
      ],
      "metadata": {
        "id": "FLB_s3S0oKpg"
      }
    },
    {
      "cell_type": "code",
      "source": [
        "Array = np.array([1.0,1.2,2.2,2.0,3.0,2.0])\n",
        "#(i)\n",
        "integer_only = Array[Array == Array.astype(int)]\n",
        "print(integer_only)\n",
        "\n",
        "#(ii)\n",
        "float_only = Array[Array != Array.astype(int)]\n",
        "print(float_only)"
      ],
      "metadata": {
        "colab": {
          "base_uri": "https://localhost:8080/"
        },
        "id": "RKkrx40xoPtQ",
        "outputId": "6b389489-8b01-40b5-c822-d716b5d1eccc"
      },
      "execution_count": null,
      "outputs": [
        {
          "output_type": "stream",
          "name": "stdout",
          "text": [
            "[1. 2. 3. 2.]\n",
            "[1.2 2.2]\n"
          ]
        }
      ]
    },
    {
      "cell_type": "markdown",
      "source": [
        "# Ques 4 : Based on Function to save Image"
      ],
      "metadata": {
        "id": "1VJRaJL2pMsD"
      }
    },
    {
      "cell_type": "markdown",
      "source": [
        "(a) Write a function named img_to_array(path) that reads an image from a specified path and\n",
        "save it as text file on local machine? (Note: use separate cases for RGB and Grey Scale\n",
        "images)\n",
        "\n",
        "(b) Load the saved file into jupyter notebook?\n"
      ],
      "metadata": {
        "id": "9VhfqqkEphA4"
      }
    },
    {
      "cell_type": "code",
      "source": [
        "import cv2\n",
        "import numpy as np\n",
        "import os\n",
        "\n",
        "def img_to_array(path):\n",
        "    img = cv2.imread(path, cv2.IMREAD_UNCHANGED)\n",
        "    if img is None:\n",
        "        print(\"Error: Image not found or unable to read.\")\n",
        "        return\n",
        "\n",
        "    if len(img.shape) == 2:\n",
        "        print(\"Image is grayscale.\")\n",
        "\n",
        "        txt_filename = os.path.splitext(path)[0] + \"_grayscale.txt\"\n",
        "        np.savetxt(txt_filename,img,fmt='%d')\n",
        "        print(f\"Grayscale image saved as text file: {txt_filename}\")\n",
        "\n",
        "    elif len(img.shape) == 3 and img.shape[2] == 3:\n",
        "        print(\"Image is color (BGR).\")\n",
        "\n",
        "        img_rgb = cv2.cvtColor(img,cv2.COLOR_BGR2RGB)\n",
        "\n",
        "        txt_filename = os.path.splitext(path)[0] + \"_rgb.txt\"\n",
        "\n",
        "        reshaped = img_rgb.reshape(-1,3)\n",
        "        np.savetxt(txt_filename,reshaped,fmt='%d',header='R G B',comments='')\n",
        "        print(f\"RGB image saved as text file: {txt_filename}\")\n",
        "\n",
        "    else:\n",
        "        print(\"Unsupported image format or number of channels.\")\n",
        "\n",
        "img_to_array(\"example.jpeg\")"
      ],
      "metadata": {
        "id": "Nt7S_MalpgRJ",
        "colab": {
          "base_uri": "https://localhost:8080/"
        },
        "outputId": "104438d3-b6f8-4235-d46b-975a3639b9d9"
      },
      "execution_count": 6,
      "outputs": [
        {
          "output_type": "stream",
          "name": "stdout",
          "text": [
            "Image is color (BGR).\n",
            "RGB image saved as text file: example_rgb.txt\n"
          ]
        }
      ]
    }
  ]
}